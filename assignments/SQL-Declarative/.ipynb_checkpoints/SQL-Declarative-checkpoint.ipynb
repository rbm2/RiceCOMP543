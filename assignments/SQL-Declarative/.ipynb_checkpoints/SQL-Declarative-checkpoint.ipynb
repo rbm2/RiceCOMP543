{
 "cells": [
  {
   "cell_type": "markdown",
   "metadata": {},
   "source": [
    "# Assignment 1 -- Declarative SQL\n",
    "\n",
    "### Description\n",
    "\n",
    "The goal of this assignment is to write several SQL queries that will answer questions over the database used by the imaginary Southern Sierra Wildflower Club (SSWC), an organization whose members are interested in observing wildflowers in their native habitat in the southern part of the Sierra Nevada mountains of California.\n",
    "\n",
    "The database maintained by the club has four tables:\n",
    "\n",
    "SIGHTINGS (SIGHT_ID, <ins>NAME</ins>, <ins>PERSON</ins>, <ins>LOCATION</ins>, <ins>SIGHTED</ins>)\n",
    "\n",
    "FEATURES (LOC\\_ID, <ins>LOCATION</ins>, CLASS, LATITUDE, LONGITUDE, MAP, ELEV)\n",
    "\n",
    "FLOWERS (FLOW\\_ID, GENUS, SPECIES, <ins>COMNAME</ins>) \n",
    "\n",
    "PEOPLE (PERSON\\_ID, <ins>PERSON</ins>)\n",
    "\n",
    "\n",
    "Recall that attribute(s) that form the key for each table/relation are underlined. \n",
    "\n",
    "The database tables have the following semantics:\n",
    "\n",
    "* **SIGHTINGS** gives information that describes every time that a member of the club observes one of the wildflowers described in the table \n",
    "\n",
    "* **FLOWERS.NAME** tells the name of the flower observed, **PERSON** describes who saw the flower, **LOCATION** tells the name of a nearby geographical feature where the flower was seen, and **SIGHTED** tells the day when the flower was seen.\n",
    "\n",
    "* **FEATURES** lists the various locations where flowers have been observed. **LOCATION** is the name of the place, **CLASS** is the type of place (there are several types, such as **Summit, Mine, Locale**, etc.), **LATITUDE** and **LONGITUDE** describe where on the surface of the earth the locations are found (if you are not familiar with the concepts of latitude and longitude, you might want to do a web search on them; the first is like an x-coordinate on the Earth's surface, and the second is like a y-coordinate). **MAP** tells the name of the topographic map where the feature can be found, and **ELEV** tells the height of the feature. \n",
    "* **FLOWERS** lists all of the flowers that the members of the SSWC try to find. **GENUS** and **SPECIES** give the scientific name for the flower, and **COMNAME** gives the non-scientific name (**SIGHTING.NAME** is a foreign key into **FLOWER.COMNAME**).\n",
    "* Finally, **PEOPLE** lists all of the people in the club.\n",
    "\n",
    "Your assignment is to write SQL queries that answer the following questions, sorted, in general, by order of difficulty from easiest to most difficult. \n",
    "\n",
    "**List all the results alphabetically, unless otherwise specified. List columns in the given order. Do NOT include extra columns or rows in the results. Do not add any extra characters or punctuation. **\n",
    "\n",
    "First, set up SQL:"
   ]
  },
  {
   "cell_type": "code",
   "execution_count": null,
   "metadata": {
    "collapsed": true
   },
   "outputs": [],
   "source": [
    "%load_ext sql"
   ]
  },
  {
   "cell_type": "markdown",
   "metadata": {},
   "source": [
    "### Create an authentication file\n",
    "\n",
    "The next few cell creates a file in the current directory (on Orion, where this notebook is) called `auth.json` \n",
    "with the following contents:\n",
    "\n",
    "```json\n",
    "{\n",
    "    \"username\": \"NETID\",\n",
    "    \"password\": \"PASSWORD EMAILED TO YOU\"\n",
    "}\n",
    "```\n",
    "\n",
    "Where `NETID` is your net id and `PASSWORD EMAILED TO YOU` is the \n",
    "password you should receive in your email sometime on Saturday (02/02).\n",
    "\n",
    "You can use the following cell to create this file. Before running the cell, change the quoted netid and password to the values emailed to you.  Once you have created the file, please DELETE THE CELL that created the file. "
   ]
  },
  {
   "cell_type": "code",
   "execution_count": null,
   "metadata": {
    "collapsed": true
   },
   "outputs": [],
   "source": [
    "import json"
   ]
  },
  {
   "cell_type": "code",
   "execution_count": null,
   "metadata": {
    "collapsed": true
   },
   "outputs": [],
   "source": [
    "# ENTER YOUR NETID / PASSWORD EMAILED TO YOU\n",
    "# RUN THIS ONCE\n",
    "# DELETE THIS CELL\n",
    "auth = dict(username = \"netid\", password = \"password\")\n",
    "\n",
    "with open(\"auth.json\", \"w\") as f:\n",
    "    json.dump(auth, f)"
   ]
  },
  {
   "cell_type": "markdown",
   "metadata": {},
   "source": [
    "This next cell creates a custom connection string that enables you to connect to the database on Orion."
   ]
  },
  {
   "cell_type": "code",
   "execution_count": null,
   "metadata": {
    "collapsed": true
   },
   "outputs": [],
   "source": [
    "def make_conn_str():\n",
    "    with open(\"auth.json\", \"r\") as f:\n",
    "        auth = json.load(f)\n",
    "        \n",
    "    username = auth[\"username\"]\n",
    "    password = auth[\"password\"]\n",
    "    hostname = \"orion-196-39.crc.rice.edu\"\n",
    "    db = username\n",
    "    \n",
    "    return f\"postgresql://{username}:{password}@{hostname}/{db}\""
   ]
  },
  {
   "cell_type": "code",
   "execution_count": null,
   "metadata": {
    "collapsed": true
   },
   "outputs": [],
   "source": [
    "conn_str = make_conn_str()"
   ]
  },
  {
   "cell_type": "code",
   "execution_count": null,
   "metadata": {
    "collapsed": true
   },
   "outputs": [],
   "source": [
    "%sql $conn_str "
   ]
  },
  {
   "cell_type": "markdown",
   "metadata": {},
   "source": [
    "#1. Who has seen a flower at **Alaska Flat**?  List the PERSONs."
   ]
  },
  {
   "cell_type": "code",
   "execution_count": null,
   "metadata": {
    "collapsed": true
   },
   "outputs": [],
   "source": [
    "%%sql"
   ]
  },
  {
   "cell_type": "markdown",
   "metadata": {},
   "source": [
    "#2. Who has seen the same flower at both **Moreland Mill** and at **Steve Spring**?  \n",
    "List the PERSONs."
   ]
  },
  {
   "cell_type": "code",
   "execution_count": null,
   "metadata": {
    "collapsed": true
   },
   "outputs": [],
   "source": [
    "%%sql"
   ]
  },
  {
   "cell_type": "markdown",
   "metadata": {},
   "source": [
    "#3. What is the scientific name (Genus and Species) for each of the different flowers that have been sighted by either **Michael** or **Robert** above 8250 feet in elevation? "
   ]
  },
  {
   "cell_type": "code",
   "execution_count": null,
   "metadata": {
    "collapsed": true
   },
   "outputs": [],
   "source": [
    "%%sql"
   ]
  },
  {
   "cell_type": "markdown",
   "metadata": {},
   "source": [
    "#4. Which maps hold a location where someone has seen **Alpine penstemon** in August?  \n",
    "\n",
    "You may use the function **EXTRACT** which can be used to extract the month from a date. The description of **EXTRACT** may be found here: https://www.postgresql.org/docs/11/functions-datetime.html"
   ]
  },
  {
   "cell_type": "code",
   "execution_count": null,
   "metadata": {
    "collapsed": true
   },
   "outputs": [],
   "source": [
    "%%sql"
   ]
  },
  {
   "cell_type": "markdown",
   "metadata": {},
   "source": [
    "#5.  Which genus have more than one species recorded in the SSWC database? "
   ]
  },
  {
   "cell_type": "code",
   "execution_count": null,
   "metadata": {
    "collapsed": true
   },
   "outputs": [],
   "source": [
    "%%sql"
   ]
  },
  {
   "cell_type": "markdown",
   "metadata": {},
   "source": [
    "#6.  What is the common name of the most commonly sighted flower (in terms of number of sightings)?  \n",
    "\n",
    "Include the common name and number of sightings in your answer."
   ]
  },
  {
   "cell_type": "code",
   "execution_count": null,
   "metadata": {
    "collapsed": true
   },
   "outputs": [],
   "source": [
    "%%sql"
   ]
  },
  {
   "cell_type": "markdown",
   "metadata": {},
   "source": [
    "#7. Who has not seen a flower at a location of class **Tower**? List the PERSON(s)."
   ]
  },
  {
   "cell_type": "code",
   "execution_count": null,
   "metadata": {
    "collapsed": true
   },
   "outputs": [],
   "source": [
    "%%sql"
   ]
  },
  {
   "cell_type": "markdown",
   "metadata": {},
   "source": [
    "#8. For each feature class, compute the total number of flower sightings.  \n",
    "\n",
    "Include the class and total number in your answer. Sort by feature class."
   ]
  },
  {
   "cell_type": "code",
   "execution_count": null,
   "metadata": {
    "collapsed": true
   },
   "outputs": [],
   "source": [
    "%%sql"
   ]
  },
  {
   "cell_type": "markdown",
   "metadata": {},
   "source": [
    "#9. For each month, compute the fraction of the various flower genus + species that were observed. For example, say that all of the sightings were in May and June. If 56% of the different flowers, by scientific name, were observed in May and 74% in June, your query should return {(5, 0.56), (6, 0.74)}. Round the fraction to 2 decimal places. Sort by month number (e.g. January = 1, February = 2, March = 3, ...) "
   ]
  },
  {
   "cell_type": "code",
   "execution_count": null,
   "metadata": {
    "collapsed": true
   },
   "outputs": [],
   "source": [
    "%%sql"
   ]
  },
  {
   "cell_type": "markdown",
   "metadata": {},
   "source": [
    "#10.  Who has seen a flower on every summit on the **Sawmill Mountain** map, except for **Cerro Noroeste**?   List the PERSON(s)."
   ]
  },
  {
   "cell_type": "code",
   "execution_count": null,
   "metadata": {
    "collapsed": true
   },
   "outputs": [],
   "source": [
    "%%sql"
   ]
  },
  {
   "cell_type": "markdown",
   "metadata": {},
   "source": [
    "#11. For those people who have seen all of the flowers in the SSWC database, what was the date at which they saw their last unseen flower? In other words, at which date did they finish observing all of the flowers in the database?\n",
    "\n",
    "Include the PERSON(s) and dates in your answer. Sort by PERSON."
   ]
  },
  {
   "cell_type": "code",
   "execution_count": null,
   "metadata": {
    "collapsed": true
   },
   "outputs": [],
   "source": [
    "%%sql"
   ]
  },
  {
   "cell_type": "markdown",
   "metadata": {},
   "source": [
    "#12.  Which latitude range (defined by a lower latitude and an upper latitude) having no more than 20 different **locations** inside of it had the most flower **sightings**, and how many sightings were there?\n",
    "\n",
    "Include the lower latitude, upper latitude and number of sightings in your answer. Order your results by lower latitude in ascending order."
   ]
  },
  {
   "cell_type": "code",
   "execution_count": null,
   "metadata": {
    "collapsed": true
   },
   "outputs": [],
   "source": [
    "%%sql"
   ]
  },
  {
   "cell_type": "markdown",
   "metadata": {},
   "source": [
    "### Grading\n",
    "Each query is worth 10 points. Points will be assigned as follows:\n",
    "* 0 points: query not attempted, query does not give any results, or it does not compile.\n",
    "* 5 points: query compiles, runs, and is most of the way towards a correct answer, but may have a major bug.\n",
    "* 8 points: the query and answer given are almost correct, but there is a slight or subtle bug in the query.\n",
    "* 10 points: the query is correct and gives the right answer.\n",
    "\n",
    "The entire assignment will be scaled to be worth a total of 100 points."
   ]
  },
  {
   "cell_type": "markdown",
   "metadata": {},
   "source": [
    "### A Word of Caution\n",
    "Start early! The average student might need 6 to 10 hours to get all 12 queries to work. \n",
    "\n",
    "### Two Final Notes\n",
    "Several of these queries will be nearly impossible to write without breaking them up into pieces. The way to do this is with the **CREATE VIEW** command. \n",
    "\n",
    "\n"
   ]
  },
  {
   "cell_type": "markdown",
   "metadata": {},
   "source": [
    "Copyright ©2019 Christopher M Jermaine (cmj4@rice.edu), and Risa B Myers  (rbm2@rice.edu)\n",
    "\n",
    "Licensed under the Apache License, Version 2.0 (the \"License\");\n",
    "you may not use this file except in compliance with the License.\n",
    "You may obtain a copy of the License at\n",
    "\n",
    "    https://www.apache.org/licenses/LICENSE-2.0\n",
    "\n",
    "Unless required by applicable law or agreed to in writing, software\n",
    "distributed under the License is distributed on an \"AS IS\" BASIS,\n",
    "WITHOUT WARRANTIES OR CONDITIONS OF ANY KIND, either express or implied.\n",
    "See the License for the specific language governing permissions and\n",
    "limitations under the License."
   ]
  }
 ],
 "metadata": {
  "kernelspec": {
   "display_name": "Python 3",
   "language": "python",
   "name": "python3"
  },
  "language_info": {
   "codemirror_mode": {
    "name": "ipython",
    "version": 3
   },
   "file_extension": ".py",
   "mimetype": "text/x-python",
   "name": "python",
   "nbconvert_exporter": "python",
   "pygments_lexer": "ipython3",
   "version": "3.6.8"
  }
 },
 "nbformat": 4,
 "nbformat_minor": 2
}
