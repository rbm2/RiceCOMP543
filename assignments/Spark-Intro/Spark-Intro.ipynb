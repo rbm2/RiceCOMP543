{
 "cells": [
  {
   "cell_type": "markdown",
   "metadata": {},
   "source": [
    "# Spark Introduction\n",
    "\n",
    "The goal of this assignment is to develop some expertise and familiarity with Spark, using RDDs and pySpark."
   ]
  },
  {
   "cell_type": "markdown",
   "metadata": {},
   "source": [
    "There are 2 different datasets that you will use:\n",
    "* Rx dataset: Medication prescriptions in the United Kingdom from  July 2016 to September 2017\n",
    "* Bioinformatics dataset: Tardigrade and bacteria genome sequences\n",
    "\n",
    "There are 3 tasks:\n",
    "1. Rx dataset\n",
    "\n",
    "    1.1  Compute the total **net ingredient cost** of prescription items dispensed for each PERIOD \n",
    "    \n",
    "    1.2 Compute the 5 practices that issued the prescriptions with the highest total net ingredient cost\n",
    "    \n",
    "2. Bioinformatics dataset\n",
    "\n",
    "      2.1 Compute and label each sequence from a provided sample as most likely being Tardigrade or bacterial using Edit Distance.\n"
   ]
  },
  {
   "cell_type": "markdown",
   "metadata": {},
   "source": [
    "## Datasets\n",
    "### Rx Dataset\n",
    "\n",
    "We will be using practice prescribing data from the UK National Health Service.\n",
    "The data set itself is a set of simple text files.  Each prescription/prescribing practice is a different line in a file. \n",
    "The attributes present on each line of the files are, in order:\n",
    "\n",
    "| Field    | Description                             |\n",
    "|----------|-----------------------------------------|\n",
    "| SHA      | Area team identifier                    |\n",
    "| PCT      | Clinical commissioning group identifier |\n",
    "| PRACTICE | Practice identifier                     |\n",
    "| BNF_CODE | British National Formulary (BNF) code   |\n",
    "| BNF_NAME | BNF name                                |\n",
    "| ITEMS    | Number of prescription items dispensed  |\n",
    "| NIC      | Net ingredient cost (pounds and pence)  |\n",
    "| ACT_COST | Actual cost (pounds and pence)          |\n",
    "| QUANTITY | Quantity - whole numbers                |\n",
    "| PERIOD   | YYYYMM                                  |\n",
    "\n",
    "Some additional information on the data can be found here:\n",
    "\n",
    "https://digital.nhs.uk/data-and-information/areas-of-interest/prescribing/practice-level-prescribing-in-england-a-summary/practice-level-prescribing-glossary-of-terms\n",
    "\n",
    "The data files are in comma separated values (CSV) format."
   ]
  },
  {
   "cell_type": "markdown",
   "metadata": {},
   "source": [
    "\n",
    "A super-small subset of the first file (only about 1000 lines) is available for download (see Canvas).  This file may be used on your computer using Docker and the Spark container. If you want, you can also use this file for testing and debugging by loading it into HDFS (just like you did in lab) and then running your Spark program over it. "
   ]
  },
  {
   "cell_type": "markdown",
   "metadata": {},
   "source": [
    "### Tardigrades\n",
    "\n",
    "What is a tardigrade and why are we looking at this problem?\n",
    "\n",
    "Tardigrades, also known as **water bears** are micro-animals that live in the water. They are caterpillar-like, with 4 pairs of legs and segmented bodies. They are ubiquitous and resilient. They have found just about everywhere in the world.  (https://en.wikipedia.org/wiki/Tardigrade)\n",
    "\n",
    "In 2015, Boothby et al. published a paper claiming that the tardigrade's ability to survive extreme conditions is due to horizontal gene transfer (HGT)(transfer of genetic material between species) from many different species, including bacteria, fungi, and plants. \n",
    "\n",
    "Koutsovoulos et al. investigated Boothby's claim and rebutted it. Basically claiming that the evidence seen was DNA sample contamination, not actual HGT.\n",
    "\n",
    "* The contaminated tardigrade assemblies are in \\\\\n",
    "``LMYF01.1.oneline.fa``\n",
    "You will be comparing these contigs with contigs in the following other files:\n",
    "\n",
    "* The **clean tardigrade reference assemblies are in the file \\\\\n",
    "``nHd.2.3.abv500.oneline.fa`` \n",
    "\n",
    "* Bacterial contigs are in the file \n",
    "``exp1.oneline.fa``\n",
    "\n",
    "\n",
    "\n",
    "Each file contains a set of lines, one line per contig. Valid lines start with the ``>`` symbol, followed by the organism name. Next is a vertical bar (``|``) followed by a unique identifier for the contig within the organism. There may then be additional text describing the contig. Finally, there will be a ``<`` symbol. After this symbol, the remaining text on the line contains the DNA code. As you may know, this text consists of the characters A, C, T, and G.\n",
    "\n",
    "Valid contig lines start with a ``>`` and contain only the specified letters in the DNA code.\n",
    "You should only include valid lines in your analysis.\n",
    "\n",
    "1. Boothby TC, Tenlen JR, Smith FW, Wang JR, Patanella KA, Nishimura EO, et al. Evidence for extensive horizontal gene transfer from the draft genome of a tardigrade. Proceedings of the National Academy of Sciences. 2015;112(52):15976-81.\n",
    "\n",
    "1.\tKoutsovoulos G, Kumar S, Laetsch DR, Stevens L, Daub J, Conlon C, et al. No evidence for extensive horizontal gene transfer in the genome of the tardigrade Hypsibius dujardini. Proceedings of the National Academy of Sciences. 2016:201600338."
   ]
  },
  {
   "cell_type": "markdown",
   "metadata": {
    "ExecuteTime": {
     "end_time": "2018-07-25T13:38:34.825959Z",
     "start_time": "2018-07-25T13:38:31.365463Z"
    }
   },
   "source": [
    "## Start Spark Context\n",
    "\n",
    "Make sure to execute first and execute only once per session"
   ]
  },
  {
   "cell_type": "code",
   "execution_count": 2,
   "metadata": {
    "collapsed": true
   },
   "outputs": [],
   "source": [
    "from pyspark import SparkContext\n",
    "sc = SparkContext(master=\"local[4]\")"
   ]
  },
  {
   "cell_type": "markdown",
   "metadata": {},
   "source": [
    "## Read in the (small) file"
   ]
  },
  {
   "cell_type": "code",
   "execution_count": 14,
   "metadata": {
    "ExecuteTime": {
     "end_time": "2018-07-25T15:51:19.406068Z",
     "start_time": "2018-07-25T15:51:19.317478Z"
    },
    "collapsed": true
   },
   "outputs": [],
   "source": [
    "raw = sc.textFile('../data/rxSmallSubset.csv')"
   ]
  },
  {
   "cell_type": "markdown",
   "metadata": {},
   "source": [
    "## Task 1"
   ]
  },
  {
   "cell_type": "markdown",
   "metadata": {},
   "source": [
    "Write a program that computes the total \"net ingredient cost\" of prescription items dispensed for each PERIOD in the data set (total pounds and pence from the NIC field).\n",
    "\n",
    "As you do this, be aware that this data (like all real data) can be quite noisy and dirty. The first line in the file might describe the schema, and so it doesn’t have any valid data, just a bunch of text. You may find lines that do not have enough entries on them, or where an entry is of the wrong type (for example, the NIC or ACT COST cannot be converted into a decimal number). Basically, you need to write robust code. If you find any error on a line, simply discard the line. Your code should still output the correct result.\n",
    "\n",
    "\n",
    "For your results, print out each period, in sorted order, followed by the total net ingredient cost for that period.\n",
    "\n",
    "The following steps are just a guide. Feel free to do it your own way."
   ]
  },
  {
   "cell_type": "markdown",
   "metadata": {},
   "source": [
    "#### Define a function that checks if a string is a valid number"
   ]
  },
  {
   "cell_type": "code",
   "execution_count": 48,
   "metadata": {
    "collapsed": true
   },
   "outputs": [],
   "source": []
  },
  {
   "cell_type": "markdown",
   "metadata": {},
   "source": [
    "#### Split each line into fields"
   ]
  },
  {
   "cell_type": "code",
   "execution_count": null,
   "metadata": {
    "collapsed": true
   },
   "outputs": [],
   "source": []
  },
  {
   "cell_type": "markdown",
   "metadata": {},
   "source": [
    "#### Filter out invalid line(s), probably using the function defined above"
   ]
  },
  {
   "cell_type": "code",
   "execution_count": null,
   "metadata": {
    "collapsed": true
   },
   "outputs": [],
   "source": []
  },
  {
   "cell_type": "markdown",
   "metadata": {},
   "source": [
    "#### Pick fields of interest, as the key and value"
   ]
  },
  {
   "cell_type": "code",
   "execution_count": null,
   "metadata": {
    "collapsed": true
   },
   "outputs": [],
   "source": []
  },
  {
   "cell_type": "markdown",
   "metadata": {},
   "source": [
    "#### Sum by PERIOD"
   ]
  },
  {
   "cell_type": "code",
   "execution_count": null,
   "metadata": {
    "collapsed": true
   },
   "outputs": [],
   "source": []
  },
  {
   "cell_type": "markdown",
   "metadata": {},
   "source": [
    "#### Print the result in order"
   ]
  },
  {
   "cell_type": "code",
   "execution_count": null,
   "metadata": {
    "collapsed": true
   },
   "outputs": [],
   "source": []
  },
  {
   "cell_type": "markdown",
   "metadata": {},
   "source": [
    "## Task 2"
   ]
  },
  {
   "cell_type": "markdown",
   "metadata": {},
   "source": [
    "Find the 5 practices that issued the prescriptions with the highest total net ingredient cost in the data set."
   ]
  },
  {
   "cell_type": "code",
   "execution_count": null,
   "metadata": {
    "ExecuteTime": {
     "end_time": "2018-07-25T15:40:55.597184Z",
     "start_time": "2018-07-25T15:40:55.562379Z"
    },
    "collapsed": true
   },
   "outputs": [],
   "source": []
  },
  {
   "cell_type": "markdown",
   "metadata": {},
   "source": [
    "How many sequences in the contaminated file are believed to be bacterial sequences?"
   ]
  },
  {
   "cell_type": "code",
   "execution_count": null,
   "metadata": {
    "collapsed": true
   },
   "outputs": [],
   "source": []
  },
  {
   "cell_type": "markdown",
   "metadata": {},
   "source": [
    "## Task 3"
   ]
  },
  {
   "cell_type": "markdown",
   "metadata": {},
   "source": [
    "Your task is to classify each sequence in the contaminated tardigrade file as being most likely bacteria or tardigrade.\n",
    "\n",
    "There are many ways to approach this job. Here are some steps at a high level:\n",
    "\n",
    "a) A function that calculates Edit Distance between two sequences\n",
    "\n",
    "b) Calculate Edit Distance for each sample against every clean and bacterial contig\n",
    "\n",
    "c) Find the shortest distance for each sample\n",
    "\n",
    "d) Classify samples\n",
    "\n",
    "You are likely to use much more RDD operations than previous tasks. Check documents for some handy functions."
   ]
  },
  {
   "cell_type": "markdown",
   "metadata": {},
   "source": [
    "#### Load data files"
   ]
  },
  {
   "cell_type": "code",
   "execution_count": 3,
   "metadata": {
    "ExecuteTime": {
     "end_time": "2018-07-25T16:07:54.957924Z",
     "start_time": "2018-07-25T16:07:54.615578Z"
    },
    "collapsed": true
   },
   "outputs": [],
   "source": [
    "bacterialRaw = sc.textFile('../data/exp1.oneline.fa.small')\n",
    "cleanRaw = sc.textFile('../data/nHd.2.3.abv500.oneline.fa.small')\n",
    "contaminatedRaw = sc.textFile('../data/LMYF01.1.oneline.fa.small')"
   ]
  },
  {
   "cell_type": "markdown",
   "metadata": {},
   "source": [
    "Copyright ©  2019 Rice University, Christopher M Jermaine (cmj4@rice.edu), and Risa B Myers  (rbm2@rice.edu)\n",
    "\n",
    "Licensed under the Apache License, Version 2.0 (the \"License\");\n",
    "you may not use this file except in compliance with the License.\n",
    "You may obtain a copy of the License at\n",
    "\n",
    "    https://www.apache.org/licenses/LICENSE-2.0\n",
    "\n",
    "Unless required by applicable law or agreed to in writing, software\n",
    "distributed under the License is distributed on an \"AS IS\" BASIS,\n",
    "WITHOUT WARRANTIES OR CONDITIONS OF ANY KIND, either express or implied.\n",
    "See the License for the specific language governing permissions and\n",
    "limitations under the License."
   ]
  },
  {
   "cell_type": "code",
   "execution_count": null,
   "metadata": {
    "collapsed": true
   },
   "outputs": [],
   "source": []
  }
 ],
 "metadata": {
  "kernelspec": {
   "display_name": "Python 3",
   "language": "python",
   "name": "python3"
  },
  "language_info": {
   "codemirror_mode": {
    "name": "ipython",
    "version": 3
   },
   "file_extension": ".py",
   "mimetype": "text/x-python",
   "name": "python",
   "nbconvert_exporter": "python",
   "pygments_lexer": "ipython3",
   "version": "3.6.8"
  },
  "toc": {
   "base_numbering": 1,
   "nav_menu": {},
   "number_sections": true,
   "sideBar": true,
   "skip_h1_title": false,
   "title_cell": "Table of Contents",
   "title_sidebar": "Contents",
   "toc_cell": false,
   "toc_position": {},
   "toc_section_display": true,
   "toc_window_display": false
  },
  "varInspector": {
   "cols": {
    "lenName": 16,
    "lenType": 16,
    "lenVar": 40
   },
   "kernels_config": {
    "python": {
     "delete_cmd_postfix": "",
     "delete_cmd_prefix": "del ",
     "library": "var_list.py",
     "varRefreshCmd": "print(var_dic_list())"
    },
    "r": {
     "delete_cmd_postfix": ") ",
     "delete_cmd_prefix": "rm(",
     "library": "var_list.r",
     "varRefreshCmd": "cat(var_dic_list()) "
    }
   },
   "types_to_exclude": [
    "module",
    "function",
    "builtin_function_or_method",
    "instance",
    "_Feature"
   ],
   "window_display": false
  }
 },
 "nbformat": 4,
 "nbformat_minor": 2
}
