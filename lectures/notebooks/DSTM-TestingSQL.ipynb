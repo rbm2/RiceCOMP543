{
 "cells": [
  {
   "cell_type": "markdown",
   "metadata": {},
   "source": [
    "# DSTM Climbing Club \n",
    "\n",
    "### Testing lesson\n",
    "\n",
    "\n",
    "This notebook walks you through writing a query and testing it.\n",
    "\n",
    "This notebook assumes you already have an auth.json file in the current directory, where this notebook is located."
   ]
  },
  {
   "cell_type": "markdown",
   "metadata": {},
   "source": [
    "#About the Data\n",
    "\n",
    "* **Peak(name, elev, diff, map, region)**:\n",
    "    Information about the mountain peaks: name; elevation; difficulty; which map it's on; region of the mountain range\n",
    "\n",
    "* **Climber(name, sex)**: CC membership list; includes name and gender\n",
    "* **Participated(trip_id, name)**:   Contains the set of climbers who participated in each CC sponsored trip\n",
    "* **Climbed(trip_id, peak, when_climbed)**: Lists which peaks were climbed on each trip and the trip date"
   ]
  },
  {
   "cell_type": "code",
   "execution_count": null,
   "metadata": {
    "collapsed": true
   },
   "outputs": [],
   "source": [
    "%load_ext sql"
   ]
  },
  {
   "cell_type": "markdown",
   "metadata": {},
   "source": [
    "The cells below create a connection string that reads your local auth.json file, returns a string that allows you to connect to the database, and actually connects you to your database."
   ]
  },
  {
   "cell_type": "code",
   "execution_count": null,
   "metadata": {
    "collapsed": true,
    "eid": "1"
   },
   "outputs": [],
   "source": [
    "import json\n",
    "def make_conn_str():\n",
    "    with open(\"auth.json\", \"r\") as f:\n",
    "        auth = json.load(f)\n",
    "        \n",
    "    username = auth[\"username\"]\n",
    "    password = auth[\"password\"]\n",
    "    hostname = \"orion-196-39.crc.rice.edu\"\n",
    "    db = username\n",
    "    \n",
    "    return f\"postgresql://{username}:{password}@{hostname}/{db}\""
   ]
  },
  {
   "cell_type": "code",
   "execution_count": null,
   "metadata": {
    "collapsed": true
   },
   "outputs": [],
   "source": [
    "conn_str = make_conn_str()"
   ]
  },
  {
   "cell_type": "code",
   "execution_count": null,
   "metadata": {},
   "outputs": [],
   "source": [
    "%sql $conn_str "
   ]
  },
  {
   "cell_type": "markdown",
   "metadata": {},
   "source": [
    "Which climbers have not made it to the top of a difficulty 5 peak?"
   ]
  },
  {
   "cell_type": "markdown",
   "metadata": {},
   "source": [
    "First, take a peek at the climbers"
   ]
  },
  {
   "cell_type": "code",
   "execution_count": null,
   "metadata": {},
   "outputs": [],
   "source": [
    "%%sql\n",
    "SELECT * \n",
    "FROM CLIMBER \n",
    "ORDER BY RANDOM() \n",
    "LIMIT 10;"
   ]
  },
  {
   "cell_type": "code",
   "execution_count": null,
   "metadata": {},
   "outputs": [],
   "source": [
    "%%sql\n",
    "SELECT * \n",
    "FROM PARTICIPATED\n",
    "ORDER BY RANDOM()\n",
    "LIMIT 10"
   ]
  },
  {
   "cell_type": "code",
   "execution_count": null,
   "metadata": {},
   "outputs": [],
   "source": [
    "%%sql\n",
    "SELECT * \n",
    "FROM CLIMBED\n",
    "ORDER BY RANDOM()\n",
    "LIMIT 10"
   ]
  },
  {
   "cell_type": "markdown",
   "metadata": {},
   "source": [
    "Why include RANDOM()?"
   ]
  },
  {
   "cell_type": "markdown",
   "metadata": {},
   "source": [
    "and the peaks"
   ]
  },
  {
   "cell_type": "code",
   "execution_count": null,
   "metadata": {},
   "outputs": [],
   "source": [
    "%%sql\n",
    "SELECT * \n",
    "FROM PEAK \n",
    "ORDER BY region, map\n",
    "LIMIT 50;"
   ]
  },
  {
   "cell_type": "markdown",
   "metadata": {},
   "source": [
    "What are the different difficulty values?"
   ]
  },
  {
   "cell_type": "code",
   "execution_count": null,
   "metadata": {},
   "outputs": [],
   "source": [
    "%%sql \n",
    "SELECT MIN(diff), MAX(diff)\n",
    "FROM PEAK;"
   ]
  },
  {
   "cell_type": "code",
   "execution_count": null,
   "metadata": {},
   "outputs": [],
   "source": [
    "%%sql\n",
    "SELECT diff, COUNT(diff)\n",
    "FROM PEAK\n",
    "GROUP BY diff\n",
    "ORDER BY diff;"
   ]
  },
  {
   "cell_type": "markdown",
   "metadata": {},
   "source": [
    "Great. Now we know what the data look like. So, next we want to start breaking down the question. Let's tackle the \"difficulty 5 peak\" first.\n",
    "\n",
    "This looks pretty straight-forward from our **peak** table. "
   ]
  },
  {
   "cell_type": "code",
   "execution_count": null,
   "metadata": {},
   "outputs": [],
   "source": [
    "%%sql\n",
    "SELECT * \n",
    "FROM PEAK\n",
    "WHERE diff = 5;"
   ]
  },
  {
   "cell_type": "markdown",
   "metadata": {},
   "source": [
    "It's easy to see in the results, that diff = 5. If the criteria were more complex, \n",
    "\n",
    "That query gives us all the diffculty 5 peaks. Do we need all the attributes?\n"
   ]
  },
  {
   "cell_type": "code",
   "execution_count": null,
   "metadata": {},
   "outputs": [],
   "source": [
    "%%sql\n",
    "SELECT name \n",
    "FROM PEAK\n",
    "WHERE diff = 5;"
   ]
  },
  {
   "cell_type": "markdown",
   "metadata": {},
   "source": [
    "How can we relate climbers to peaks?\n",
    "\n",
    "Through **CLIMBED** and **PARTICIPATED**"
   ]
  },
  {
   "cell_type": "code",
   "execution_count": null,
   "metadata": {},
   "outputs": [],
   "source": [
    "%%sql\n",
    "SELECT *\n",
    "FROM CLIMBED d,PEAK k, PARTICIPATED p\n",
    "WHERE d.TRIP_ID = p.TRIP_ID\n",
    "    AND d.PEAK = k.NAME\n",
    "LIMIT 10;"
   ]
  },
  {
   "cell_type": "markdown",
   "metadata": {},
   "source": [
    "What does this query give us?"
   ]
  },
  {
   "cell_type": "markdown",
   "metadata": {},
   "source": [
    "Everyone who ever climbed a peak and when they climbed it.\n",
    "\n",
    "Let's check it. What attributes would we expect?"
   ]
  },
  {
   "cell_type": "markdown",
   "metadata": {},
   "source": [
    "From **CLIMBED**: trip_id, peak, when_climbed\n",
    "    \n",
    "From **CLIMBER**:name, sex\n",
    "\n",
    "From **PEAK**: name, elev, diff, map, region\n",
    "\n",
    "From **PARTICIPATED**: trip_id, name"
   ]
  },
  {
   "cell_type": "markdown",
   "metadata": {},
   "source": [
    "Attributes look good. Does it return the right answer?\n",
    "\n",
    "Let's use a subset of our data to check.\n",
    "\n",
    "You want to test a number of conditions:\n",
    "\n",
    "#1. When there is a match between one relation and another\n",
    "#2. When there isn't a match between the two relations and another\n",
    "#3. When a record in one relation matches more than 1 record in another\n",
    "\n",
    "So, in this case, let's empty out **CLIMBER**, **CLIMBED**, and **PEAK** and build a small set of records."
   ]
  },
  {
   "cell_type": "code",
   "execution_count": null,
   "metadata": {},
   "outputs": [],
   "source": [
    "%%sql\n",
    "\n",
    "DELETE FROM CLIMBED;\n",
    "\n",
    "DELETE FROM CLIMBER;\n",
    "\n",
    "DELETE FROM PARTICIPATED;\n",
    "\n",
    "DELETE FROM PEAK;\n",
    "\n",
    "-- pick a set of records with different data\n",
    "INSERT INTO CLIMBER VALUES ('SANDRA','F');\n",
    "INSERT INTO CLIMBER VALUES ('DONNA','F');\n",
    "INSERT INTO CLIMBER VALUES ('JOHN','M');\n",
    "\n",
    "INSERT INTO PEAK VALUES ('Kern Point',12730,2,'Mt Kaweah','Kaweahs and West');\n",
    "\n",
    "INSERT INTO PARTICIPATED VALUES (9, 'DONNA');\n",
    "INSERT INTO PARTICIPATED VALUES (9, 'JOHN');\n",
    "\n",
    "INSERT INTO CLIMBED VALUES (9,'Kern Point','2002-09-16');\n"
   ]
  },
  {
   "cell_type": "markdown",
   "metadata": {},
   "source": [
    "Now, if I rerun my query, I would expect to see that Donna and John both climbed Kern Point, but Sandra didn't.\n",
    "\n",
    "## It is super important to know what answer you expect BEFORE you run the query"
   ]
  },
  {
   "cell_type": "markdown",
   "metadata": {},
   "source": [
    "Go back and rerun the query!"
   ]
  },
  {
   "cell_type": "markdown",
   "metadata": {},
   "source": [
    "Back to our original question: \n",
    "\n",
    "Which climbers have not made it to the top of a difficulty 5 peak?"
   ]
  },
  {
   "cell_type": "markdown",
   "metadata": {},
   "source": [
    "Which climbers have?"
   ]
  },
  {
   "cell_type": "code",
   "execution_count": null,
   "metadata": {},
   "outputs": [],
   "source": [
    "%%sql\n",
    "SELECT *\n",
    "FROM CLIMBED d,PEAK k, PARTICIPATED p\n",
    "WHERE d.TRIP_ID = p.TRIP_ID\n",
    "    AND d.PEAK = k.NAME\n",
    "    AND k.diff = 5;"
   ]
  },
  {
   "cell_type": "markdown",
   "metadata": {},
   "source": [
    "No one!\n",
    "\n",
    "That's because our limited dataset didn't include any level 5 peaks. So, let's add **one** to the trip.\n",
    "\n"
   ]
  },
  {
   "cell_type": "code",
   "execution_count": null,
   "metadata": {},
   "outputs": [],
   "source": [
    "%%sql\n",
    "-- NOTE: Changing the difficulty to 5 from the original data\n",
    "INSERT INTO PEAK VALUES ('Mount Mallory',13845,5,'Mount Whitney','Corocoran to Whitney');\n",
    "\n",
    "INSERT INTO CLIMBED VALUES (9,'Mount Mallory','2002-09-17');\n"
   ]
  },
  {
   "cell_type": "markdown",
   "metadata": {},
   "source": [
    "and rerun the query"
   ]
  },
  {
   "cell_type": "markdown",
   "metadata": {},
   "source": [
    "This time I see my two climbers."
   ]
  },
  {
   "cell_type": "markdown",
   "metadata": {},
   "source": [
    "Let's make this last query (which climbers have climbed a difficulty 5 peak) into a VIEW, so we can reuse it:"
   ]
  },
  {
   "cell_type": "code",
   "execution_count": null,
   "metadata": {},
   "outputs": [],
   "source": [
    "%%sql\n",
    "CREATE VIEW diff5Climbers AS\n",
    "(\n",
    "    SELECT *\n",
    "    FROM CLIMBED d,PEAK k, PARTICIPATED p\n",
    "    WHERE d.TRIP_ID = p.TRIP_ID\n",
    "        AND d.PEAK = k.NAME\n",
    "        AND k.diff = 5\n",
    ")"
   ]
  },
  {
   "cell_type": "markdown",
   "metadata": {},
   "source": [
    "Hmm, that didn't work. Let's fix it"
   ]
  },
  {
   "cell_type": "code",
   "execution_count": null,
   "metadata": {},
   "outputs": [],
   "source": [
    "%%sql\n",
    "DROP VIEW IF EXISTS diff5Climbers;\n",
    "CREATE VIEW diff5Climbers AS\n",
    "(\n",
    "    SELECT p.NAME, k.NAME peakName\n",
    "    FROM CLIMBED d,PEAK k, PARTICIPATED p\n",
    "    WHERE d.TRIP_ID = p.TRIP_ID\n",
    "        AND d.PEAK = k.NAME\n",
    "        AND k.diff = 5\n",
    ")"
   ]
  },
  {
   "cell_type": "markdown",
   "metadata": {},
   "source": [
    "and now we can use the VIEW"
   ]
  },
  {
   "cell_type": "code",
   "execution_count": null,
   "metadata": {},
   "outputs": [],
   "source": [
    "%%sql\n",
    "SELECT * \n",
    "FROM diff5Climbers;"
   ]
  },
  {
   "cell_type": "markdown",
   "metadata": {},
   "source": [
    "Now, let's finish answering our question:\n",
    "\n",
    "Which climbers have not made it to the top of a difficulty 5 peak?\n",
    "\n",
    "Again, given our data, what results should we see?\n",
    "\n"
   ]
  },
  {
   "cell_type": "code",
   "execution_count": null,
   "metadata": {},
   "outputs": [],
   "source": [
    "%%sql\n",
    "SELECT NAME \n",
    "FROM CLIMBER\n",
    "    EXCEPT\n",
    "    -- Climbers who have made it to the top of a difficulty 5 peak\n",
    "        SELECT NAME \n",
    "        FROM diff5Climbers\n",
    "ORDER BY NAME;\n"
   ]
  },
  {
   "cell_type": "markdown",
   "metadata": {},
   "source": [
    "Finally, don't forget to restore the original data!"
   ]
  },
  {
   "cell_type": "code",
   "execution_count": null,
   "metadata": {},
   "outputs": [],
   "source": [
    "%run ./ClimbingClubData.ipynb"
   ]
  },
  {
   "cell_type": "code",
   "execution_count": null,
   "metadata": {},
   "outputs": [],
   "source": [
    "%%sql\n",
    "SELECT NAME \n",
    "FROM CLIMBER\n",
    "    EXCEPT\n",
    "    -- Climbers who have made it to the top of a difficulty 5 peak\n",
    "        SELECT NAME \n",
    "        FROM diff5Climbers\n",
    "ORDER BY NAME;\n"
   ]
  },
  {
   "cell_type": "markdown",
   "metadata": {},
   "source": [
    "## Lessons Learned / to Learn\n",
    "\n",
    "* Don't try to look at all of the data\n",
    "* Look at samples of the data\n",
    "* Look at extremes of the data\n",
    "* Reduce the data\n",
    "* Change the data\n",
    "    * But only change one things at a time\n",
    "* Try ALL possible combinations\n",
    "* Try to check the result a different way \n",
    "    * Remeber checking subtraction with addition\n",
    "* Add abstractions (e.g. VIEWs)\n",
    "* Don't forget to restore the original data!"
   ]
  },
  {
   "cell_type": "markdown",
   "metadata": {
    "collapsed": true
   },
   "source": [
    "Copyright ©2019 Christopher M Jermaine (cmj4@rice.edu), and Risa B Myers  (rbm2@rice.edu)\n",
    "\n",
    "Licensed under the Apache License, Version 2.0 (the \"License\");\n",
    "you may not use this file except in compliance with the License.\n",
    "You may obtain a copy of the License at\n",
    "\n",
    "    https://www.apache.org/licenses/LICENSE-2.0\n",
    "\n",
    "Unless required by applicable law or agreed to in writing, software\n",
    "distributed under the License is distributed on an \"AS IS\" BASIS,\n",
    "WITHOUT WARRANTIES OR CONDITIONS OF ANY KIND, either express or implied.\n",
    "See the License for the specific language governing permissions and\n",
    "limitations under the License."
   ]
  },
  {
   "cell_type": "code",
   "execution_count": null,
   "metadata": {
    "collapsed": true
   },
   "outputs": [],
   "source": []
  }
 ],
 "metadata": {
  "celltoolbar": "Edit Metadata",
  "kernelspec": {
   "display_name": "Python 3",
   "language": "python",
   "name": "python3"
  },
  "language_info": {
   "codemirror_mode": {
    "name": "ipython",
    "version": 3
   },
   "file_extension": ".py",
   "mimetype": "text/x-python",
   "name": "python",
   "nbconvert_exporter": "python",
   "pygments_lexer": "ipython3",
   "version": "3.6.8"
  }
 },
 "nbformat": 4,
 "nbformat_minor": 2
}
