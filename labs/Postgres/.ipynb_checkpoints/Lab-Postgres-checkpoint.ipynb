{
 "cells": [
  {
   "cell_type": "markdown",
   "metadata": {},
   "source": [
    "# Postgres\n",
    "\n",
    "In this lab we will demonstrate using Postgres through a Jupyter Notebook."
   ]
  },
  {
   "cell_type": "markdown",
   "metadata": {},
   "source": [
    "## Cyphers\n",
    "\n",
    "For this lab, you are given a simple substitution cypher (e.g.'a' = 5, 'b' = 1, etc.) and a secret message that has been encoded using the cypher. You will need to create tables to store the cypher and the secret message. Next you will load the provided cypher and secret message into the tables and write a query to decrypt the secret message.\n",
    "\n",
    "For example, if our cypher is:\n",
    "\n",
    "    a = 2\n",
    "    b = 3\n",
    "    c = 1\n",
    "\n",
    "and our secret message is '1 2 3', then the decrypted message is: 'cab'."
   ]
  },
  {
   "cell_type": "markdown",
   "metadata": {},
   "source": [
    "## Table Setup\n",
    "\n",
    "At this point, you should have created these two tables in your database.  If not, go back and follow the instructions in the lab document.\n",
    "\n",
    "* cypher: This table will store the cypher by which our message has been encrypted. It has two attributes\n",
    "    * letter, which has datatype character, and contains the symbol to be encoded\n",
    "    * value, which has datatype integer. This attribute contains the integer used to represent letter in the cypher\n",
    "* message This table will store the secret message. It also has two attributes\n",
    "    * seq, which has datatype integer. This attribute indicates where in the message this symbol is found\n",
    "    * letter, which has datatype integer. This attribute contains the integer that the symbol in the original message is mapped to by the cypher "
   ]
  },
  {
   "cell_type": "markdown",
   "metadata": {},
   "source": [
    "## Database Connection"
   ]
  },
  {
   "cell_type": "code",
   "execution_count": null,
   "metadata": {
    "collapsed": true
   },
   "outputs": [],
   "source": [
    "%load_ext sql"
   ]
  },
  {
   "cell_type": "markdown",
   "metadata": {},
   "source": [
    "If you're using docker, just use the connection string as setup below, otherwise, you'll have to change some of the configuration."
   ]
  },
  {
   "cell_type": "code",
   "execution_count": null,
   "metadata": {
    "collapsed": true
   },
   "outputs": [],
   "source": [
    "username = \"dbuser\"\n",
    "password = \"mypwd\"\n",
    "hostname = \"postgres\"\n",
    "db = \"myDBName\"\n",
    "conn_str = f\"postgresql://{username}:{password}@{hostname}/{db}\""
   ]
  },
  {
   "cell_type": "code",
   "execution_count": null,
   "metadata": {
    "collapsed": true
   },
   "outputs": [],
   "source": [
    "%sql $conn_str"
   ]
  },
  {
   "cell_type": "markdown",
   "metadata": {},
   "source": [
    "List the tables available: (make sure cypher and message are present!)"
   ]
  },
  {
   "cell_type": "code",
   "execution_count": null,
   "metadata": {
    "collapsed": true
   },
   "outputs": [],
   "source": [
    "%sql \\d"
   ]
  },
  {
   "cell_type": "markdown",
   "metadata": {},
   "source": [
    "Get a few rows from each:"
   ]
  },
  {
   "cell_type": "code",
   "execution_count": null,
   "metadata": {
    "collapsed": true
   },
   "outputs": [],
   "source": [
    "%%sql \n",
    "SELECT * FROM cypher LIMIT 5"
   ]
  },
  {
   "cell_type": "code",
   "execution_count": null,
   "metadata": {
    "collapsed": true
   },
   "outputs": [],
   "source": [
    "%%sql\n",
    "SELECT * FROM message LIMIT 5"
   ]
  },
  {
   "cell_type": "markdown",
   "metadata": {},
   "source": [
    "## Decode the message!"
   ]
  },
  {
   "cell_type": "markdown",
   "metadata": {},
   "source": [
    "Write SQL code to decode the secret message and display the original message"
   ]
  },
  {
   "cell_type": "code",
   "execution_count": null,
   "metadata": {
    "collapsed": true
   },
   "outputs": [],
   "source": [
    "%%sql\n",
    "-- your SQL code here"
   ]
  },
  {
   "cell_type": "markdown",
   "metadata": {},
   "source": [
    "Show your query and query results to a TA to get checked off.  Please also upload a `.pdf` or `.ipynb` version of this notebook to the Lab assignment on Canvas."
   ]
  },
  {
   "cell_type": "markdown",
   "metadata": {},
   "source": [
    "Copyright ©2019 Christopher M Jermaine (cmj4@rice.edu), and Risa B Myers  (rbm2@rice.edu)\n",
    "\n",
    "Licensed under the Apache License, Version 2.0 (the \"License\");\n",
    "you may not use this file except in compliance with the License.\n",
    "You may obtain a copy of the License at\n",
    "\n",
    "    https://www.apache.org/licenses/LICENSE-2.0\n",
    "\n",
    "Unless required by applicable law or agreed to in writing, software\n",
    "distributed under the License is distributed on an \"AS IS\" BASIS,\n",
    "WITHOUT WARRANTIES OR CONDITIONS OF ANY KIND, either express or implied.\n",
    "See the License for the specific language governing permissions and\n",
    "limitations under the License."
   ]
  }
 ],
 "metadata": {
  "kernelspec": {
   "display_name": "Python 3",
   "language": "python",
   "name": "python3"
  },
  "language_info": {
   "codemirror_mode": {
    "name": "ipython",
    "version": 3
   },
   "file_extension": ".py",
   "mimetype": "text/x-python",
   "name": "python",
   "nbconvert_exporter": "python",
   "pygments_lexer": "ipython3",
   "version": "3.6.8"
  }
 },
 "nbformat": 4,
 "nbformat_minor": 2
}
