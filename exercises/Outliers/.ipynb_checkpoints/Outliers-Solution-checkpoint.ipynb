{
 "cells": [
  {
   "cell_type": "markdown",
   "metadata": {},
   "source": [
    "## Outlier Detection\n",
    "For this homework, you will be implementing the outlier detection algorithm from class.\n",
    "\n",
    "There are two subtasks. Each is worth 25 points, 15 for \n",
    "implementing the algorithm and 10 for getting the correct answer. Partial credit may be given and deductions may be taken.\n",
    "\n",
    "### Honor Code Policy\n",
    "This assignment is to be completed independently. You may discuss the assignment at a high level with your classmates, but may not share code or results."
   ]
  },
  {
   "cell_type": "code",
   "execution_count": 44,
   "metadata": {
    "collapsed": true
   },
   "outputs": [],
   "source": [
    "import matplotlib.pyplot as plt\n",
    "\n",
    "# Note: This instructs matplotlib to use a Jupyter Notebook backend for plotting.\n",
    "%matplotlib inline"
   ]
  },
  {
   "cell_type": "code",
   "execution_count": 46,
   "metadata": {
    "collapsed": true
   },
   "outputs": [],
   "source": [
    "# THIS CELL NEEDS TO BE RUN TWICE\n",
    "plt.rcParams[\"figure.figsize\"] = 10, 6"
   ]
  },
  {
   "cell_type": "markdown",
   "metadata": {},
   "source": [
    "## brief aside on `heapq`\n",
    "\n",
    "Python's `heapq` library ([documentation](https://docs.python.org/3.6/library/heapq.html), please read through this to understand what they are and how we store them in an array)\n",
    "provides a heap interface to Python lists.\n",
    "\n",
    "### what's a heap?\n",
    "\n",
    "A heap is a tree-based data structure which satisfies the \n",
    "heap property:  \n",
    "\n",
    "---\n",
    "\n",
    "if $P$ is a parent of $C$, then the value of $P$ must be greater \n",
    "than or equal to the value of $C$\n",
    "\n",
    "---\n",
    "\n",
    "Also see:  \n",
    "* https://en.wikipedia.org/wiki/Heap_(data_structure)\n",
    "* https://www.tutorialspoint.com/data_structures_algorithms/heap_data_structure.htm\n",
    "* https://www.geeksforgeeks.org/heap-data-structure/"
   ]
  },
  {
   "cell_type": "markdown",
   "metadata": {},
   "source": [
    "## generate data\n",
    "\n",
    "To generate some data with outliers for this exercise, we're going to sample some data from a \n",
    "distribution with known parameters, modify the parameters, and continue sampling to generate \n",
    "some outliers.  In particular, we'll sample our data from a \n",
    "[multi-variate normal distribution](https://en.wikipedia.org/wiki/Multivariate_normal_distribution)."
   ]
  },
  {
   "cell_type": "code",
   "execution_count": 47,
   "metadata": {
    "collapsed": true
   },
   "outputs": [],
   "source": [
    "import heapq as hq\n",
    "import numpy as np\n",
    "import time"
   ]
  },
  {
   "cell_type": "code",
   "execution_count": 48,
   "metadata": {
    "collapsed": true
   },
   "outputs": [],
   "source": [
    "from hashlib import md5\n",
    "\n",
    "# Note: Random Number Generators (RNGs) aren't actually random; \n",
    "# we can all get the same results here if we use the same \"seed\".\n",
    "#   For more details see: https://en.wikipedia.org/wiki/Pseudorandom_number_generator\n",
    "seed = int(md5(b\"DSCI302\").hexdigest(), 16) % (2**32 - 1) # this just gets a valid seed in a fun way \n",
    "np.random.seed(seed)"
   ]
  },
  {
   "cell_type": "code",
   "execution_count": 49,
   "metadata": {
    "collapsed": true
   },
   "outputs": [],
   "source": [
    "def generate_data(dim = 100, num_points = 3000, num_outliers=20):\n",
    "    \"\"\"\n",
    "    Generates some data with a the specified number of outliers.\n",
    "    \n",
    "    :param dim: the dimensionality of the data\n",
    "    :param num_points: number of data points to generate\n",
    "    :param num_outliers: number of outlierly data points to generate\n",
    "    \"\"\"\n",
    "        \n",
    "    # covariance matrix & mean vector\n",
    "    covar = np.diag(np.ones(dim))\n",
    "    mean = np.zeros(dim)\n",
    "\n",
    "    # Sample num_points data points\n",
    "    all_data = np.random.multivariate_normal(mean, covar, num_points)\n",
    "    \n",
    "    #now create the num_outliers outliers. Note that this code generates batches of points clustered around \n",
    "    #increasing means. The most outlierly points will start at index num_points. \n",
    "    for i in range (1, num_outliers):\n",
    "        mean.fill(i)\n",
    "        outlier_data = np.random.multivariate_normal (mean, covar, i)\n",
    "        all_data = np.concatenate ((all_data, outlier_data))\n",
    "\n",
    "    return all_data\n",
    "\n",
    "this_num_points = 3000\n",
    "this_num_outliers = 20\n",
    "data100d = generate_data(dim=100, num_points = this_num_points, num_outliers = this_num_outliers)"
   ]
  },
  {
   "cell_type": "markdown",
   "metadata": {},
   "source": [
    "### quick example in 2 dimensions\n",
    "\n",
    "Let's take a look at what this looks like in 2 dimensions. "
   ]
  },
  {
   "cell_type": "code",
   "execution_count": null,
   "metadata": {
    "collapsed": true
   },
   "outputs": [],
   "source": [
    "data2d = generate_data(dim=2)"
   ]
  },
  {
   "cell_type": "code",
   "execution_count": 63,
   "metadata": {},
   "outputs": [
    {
     "data": {
      "text/plain": [
       "<matplotlib.legend.Legend at 0x10b24eb38>"
      ]
     },
     "execution_count": 63,
     "metadata": {},
     "output_type": "execute_result"
    },
    {
     "data": {
      "image/png": "[encoded data removed]",
      "text/plain": [
       "<matplotlib.figure.Figure at 0x10b387940>"
      ]
     },
     "metadata": {},
     "output_type": "display_data"
    }
   ],
   "source": [
    "\n",
    "plt.scatter(*data2d[0:this_num_points-1,:].T, label=\"data\")\n",
    "plt.scatter(*data2d[this_num_points:,:].T, label=\"outlier\")\n",
    "plt.legend(loc=\"lower right\")"
   ]
  },
  {
   "cell_type": "code",
   "execution_count": 62,
   "metadata": {},
   "outputs": [
    {
     "data": {
      "text/plain": [
       "<matplotlib.legend.Legend at 0x10b3c0470>"
      ]
     },
     "execution_count": 62,
     "metadata": {},
     "output_type": "execute_result"
    },
    {
     "data": {
      "image/png": "[encoded data removed]",
      "text/plain": [
       "<matplotlib.figure.Figure at 0x10b387668>"
      ]
     },
     "metadata": {},
     "output_type": "display_data"
    }
   ],
   "source": [
    "plt.scatter(*data2d[0:this_num_points,:].T, label=\"data\")\n",
    "plt.scatter(*data2d[this_num_points:this_num_points+4,:].T, label=\"outlier\")\n",
    "plt.legend(loc=\"lower right\")"
   ]
  },
  {
   "cell_type": "markdown",
   "metadata": {},
   "source": [
    "# Task 1 (25 points)\n",
    "\n",
    "\n",
    "For this task, you will be asked to implement (in Python) the nested loops algorithm on slide 29 of the \"outliers\" lecture. Start with the code below, and fill in the appropriate missing code. To implement the priority queue, use Python's heapq. The distance between data points should be implemented using Euclidean distance (the $\\ell_2$-norm)."
   ]
  },
  {
   "cell_type": "markdown",
   "metadata": {},
   "source": [
    "## implementation (15 points)"
   ]
  },
  {
   "cell_type": "code",
   "execution_count": 65,
   "metadata": {
    "collapsed": true
   },
   "outputs": [],
   "source": [
    "def get_outliers_slow(data, num_neigh = 10, num_outliers = 5):\n",
    "    \"\"\"\n",
    "    Implement the nested loop outliers algorithm on slide 29 of the lecture.\n",
    "    \n",
    "    :param data: the data\n",
    "    :param num_neigh: number of neighbors to use in knn detection\n",
    "    :param num_outliers: number of outliers to return\n",
    "    \n",
    "    :return: a numpy array of dimension [num_outliers,] \n",
    "    storing pairs containing the each outlier and its index in the data \n",
    "    \"\"\"\n",
    "    \n",
    "    # Feel free to change / use the above variables as you please, but\n",
    "    # please return the outliers / indices as described in the docstring.\n",
    "    \n",
    "    # Priority Queue for the Outliers\n",
    "    outliers = []\n",
    "    # Array for the indices\n",
    "    indices = []\n",
    "    \n",
    "    # TODO: Implement the nested loop outliers algo. and store the outliers\n",
    "    for i in range(len(data)):\n",
    "        maxQ = []\n",
    "        for j in range(len(data)):\n",
    "            if i != j:\n",
    "                hq.heappush(maxQ, -1 * np.sqrt(np.square(data[i, :] - data[j, :]).sum()))\n",
    "                if len(maxQ) > num_neigh:\n",
    "                    hq.heappop(maxQ)\n",
    "        hq.heappush(outliers, (-1 * min(maxQ), i))\n",
    "        if len(outliers) > num_outliers:\n",
    "            hq.heappop(outliers)\n",
    "        \n",
    "    return np.array(outliers)"
   ]
  },
  {
   "cell_type": "markdown",
   "metadata": {},
   "source": [
    "## time it! (correct output + reasonable time 15pt)\n",
    "\n",
    "Note how we can time the execution of a cell simply by starting it with\n",
    "`%%time`. A reasonable time is ~1-2 minutes."
   ]
  },
  {
   "cell_type": "code",
   "execution_count": 59,
   "metadata": {},
   "outputs": [
    {
     "name": "stdout",
     "output_type": "stream",
     "text": [
      "CPU times: user 55.3 s, sys: 56.4 ms, total: 55.3 s\n",
      "Wall time: 55.4 s\n"
     ]
    }
   ],
   "source": [
    "%%time\n",
    "\n",
    "outliers100d = get_outliers_slow(data100d)"
   ]
  },
  {
   "cell_type": "code",
   "execution_count": 61,
   "metadata": {},
   "outputs": [
    {
     "data": {
      "text/plain": [
       "array([[  20.22683828, 3002.        ],\n",
       "       [  22.01391451, 3001.        ],\n",
       "       [  24.49426849, 3005.        ],\n",
       "       [  22.66514924, 3004.        ],\n",
       "       [  24.23586353, 3003.        ]])"
      ]
     },
     "execution_count": 61,
     "metadata": {},
     "output_type": "execute_result"
    }
   ],
   "source": [
    "outliers100d"
   ]
  },
  {
   "cell_type": "code",
   "execution_count": 66,
   "metadata": {},
   "outputs": [
    {
     "name": "stdout",
     "output_type": "stream",
     "text": [
      "CPU times: user 53.8 s, sys: 68.7 ms, total: 53.8 s\n",
      "Wall time: 53.9 s\n"
     ]
    }
   ],
   "source": [
    "%%time\n",
    "\n",
    "outliers2d = get_outliers_slow(data2d)"
   ]
  },
  {
   "cell_type": "code",
   "execution_count": 67,
   "metadata": {},
   "outputs": [
    {
     "data": {
      "text/plain": [
       "array([[2.67915111e+00, 3.04600000e+03],\n",
       "       [2.72321394e+00, 3.00600000e+03],\n",
       "       [2.74603037e+00, 3.17800000e+03],\n",
       "       [3.02557359e+00, 3.01300000e+03],\n",
       "       [2.90099344e+00, 3.01400000e+03]])"
      ]
     },
     "execution_count": 67,
     "metadata": {},
     "output_type": "execute_result"
    }
   ],
   "source": [
    "outliers2d"
   ]
  },
  {
   "cell_type": "markdown",
   "metadata": {},
   "source": [
    "### plot 2D data & predicted outliers"
   ]
  },
  {
   "cell_type": "code",
   "execution_count": 68,
   "metadata": {},
   "outputs": [
    {
     "data": {
      "text/plain": [
       "<matplotlib.legend.Legend at 0x10b3c7ef0>"
      ]
     },
     "execution_count": 68,
     "metadata": {},
     "output_type": "execute_result"
    },
    {
     "data": {
      "image/png": "[encoded data removed]",
      "text/plain": [
       "<matplotlib.figure.Figure at 0x10b2910b8>"
      ]
     },
     "metadata": {},
     "output_type": "display_data"
    }
   ],
   "source": [
    "plt.scatter(*data2d.T, label=\"data\")\n",
    "if len(outliers2d):\n",
    "    plt.scatter(*outliers2d.T, label=\"predicted outlier\")\n",
    "plt.legend(loc=\"lower right\")"
   ]
  },
  {
   "cell_type": "markdown",
   "metadata": {},
   "source": [
    "# Task 2: Optimal Algorithm (25 points)\n",
    "\n",
    "In this task, you should implement the faster algorithm on slide 32. Note that your implemetation should find the same outliers as in Task 1."
   ]
  },
  {
   "cell_type": "markdown",
   "metadata": {},
   "source": [
    "## implementation (15 points)"
   ]
  },
  {
   "cell_type": "code",
   "execution_count": 76,
   "metadata": {
    "collapsed": true
   },
   "outputs": [],
   "source": [
    "def get_outliers_fast(data, num_neigh = 10, num_outliers = 5):\n",
    "    \"\"\"\n",
    "    Implement the nested loop outliers algorithm on slide 32 of the lecture.\n",
    "    \n",
    "    :param data: the data\n",
    "    :param num_neigh: number of neighbors to use in knn detection\n",
    "    :param num_outliers: number of outliers to return\n",
    "    \n",
    "    :return: a numpy array of dimension [num_outliers,] storing the outliers\n",
    "    and a numpy array of dimension [num_outliers,] storing the indices\n",
    "    \"\"\"\n",
    "    \n",
    "    # Feel free to change / use the following variables as you please, but\n",
    "    # please return the outliers / indices as described in the docstring.\n",
    "    \n",
    "    # Priority Queue for the Outliers\n",
    "    outliers = []\n",
    "    # Array for the indices\n",
    "    indices = []\n",
    "    \n",
    "    # TODO: Implement the fast outliers algo. and store the outliers & indices\n",
    "    \n",
    "    for p in range(len(data)):\n",
    "        max_q = []\n",
    "        for piter in range(len(data)):\n",
    "            dis = np.linalg.norm(data[piter]-data[p],2)\n",
    "            if(piter!=p):\n",
    "                hq.heappush(max_q,-1*dis)\n",
    "            if(len(max_q)>num_neigh):\n",
    "                hq.heappop(max_q)\n",
    "            if(len(max_q)==num_neigh and len(outliers)==num_outliers and max_q[0]*-1<outliers[0][0]):\n",
    "                break\n",
    "        hq.heappush(outliers,(max_q[0]*-1,p))\n",
    "        if(len(outliers)>num_outliers):\n",
    "            hq.heappop(outliers)\n",
    "\n",
    "    return np.array(outliers)"
   ]
  },
  {
   "cell_type": "markdown",
   "metadata": {},
   "source": [
    "## time it! (correct output + reasonable time 10 points)\n",
    "\n",
    "Note how we can time the execution of a cell simply by starting it with\n",
    "`%%time`."
   ]
  },
  {
   "cell_type": "code",
   "execution_count": 77,
   "metadata": {},
   "outputs": [
    {
     "name": "stdout",
     "output_type": "stream",
     "text": [
      "CPU times: user 5.76 s, sys: 45.5 ms, total: 5.8 s\n",
      "Wall time: 5.78 s\n"
     ]
    }
   ],
   "source": [
    "%%time\n",
    "\n",
    "outliers2d = get_outliers_fast(data2d)"
   ]
  },
  {
   "cell_type": "code",
   "execution_count": 78,
   "metadata": {},
   "outputs": [
    {
     "data": {
      "text/plain": [
       "array([[2.67915111e+00, 3.04600000e+03],\n",
       "       [2.72321394e+00, 3.00600000e+03],\n",
       "       [2.74603037e+00, 3.17800000e+03],\n",
       "       [3.02557359e+00, 3.01300000e+03],\n",
       "       [2.90099344e+00, 3.01400000e+03]])"
      ]
     },
     "execution_count": 78,
     "metadata": {},
     "output_type": "execute_result"
    }
   ],
   "source": [
    "outliers2d"
   ]
  },
  {
   "cell_type": "code",
   "execution_count": 79,
   "metadata": {},
   "outputs": [
    {
     "name": "stdout",
     "output_type": "stream",
     "text": [
      "CPU times: user 7.42 s, sys: 64.4 ms, total: 7.48 s\n",
      "Wall time: 7.47 s\n"
     ]
    }
   ],
   "source": [
    "%%time\n",
    "\n",
    "outliers100d = get_outliers_fast(data100d)"
   ]
  },
  {
   "cell_type": "code",
   "execution_count": 80,
   "metadata": {},
   "outputs": [
    {
     "data": {
      "text/plain": [
       "array([[  20.22683828, 3002.        ],\n",
       "       [  22.01391451, 3001.        ],\n",
       "       [  24.49426849, 3005.        ],\n",
       "       [  22.66514924, 3004.        ],\n",
       "       [  24.23586353, 3003.        ]])"
      ]
     },
     "execution_count": 80,
     "metadata": {},
     "output_type": "execute_result"
    }
   ],
   "source": [
    "outliers100d"
   ]
  },
  {
   "cell_type": "markdown",
   "metadata": {},
   "source": [
    "### plot 2D data & predicted outliers"
   ]
  },
  {
   "cell_type": "code",
   "execution_count": 81,
   "metadata": {},
   "outputs": [
    {
     "data": {
      "text/plain": [
       "<matplotlib.legend.Legend at 0x10b3f4978>"
      ]
     },
     "execution_count": 81,
     "metadata": {},
     "output_type": "execute_result"
    },
    {
     "data": {
      "image/png": "[encoded data removed]",
      "text/plain": [
       "<matplotlib.figure.Figure at 0x10bd917f0>"
      ]
     },
     "metadata": {},
     "output_type": "display_data"
    }
   ],
   "source": [
    "plt.scatter(*data2d.T, label=\"data\")\n",
    "if len(outliers2d):\n",
    "    plt.scatter(*outliers2d.T, label=\"predicted outlier\")\n",
    "plt.legend(loc=\"lower right\")"
   ]
  },
  {
   "cell_type": "code",
   "execution_count": null,
   "metadata": {
    "collapsed": true
   },
   "outputs": [],
   "source": []
  }
 ],
 "metadata": {
  "kernelspec": {
   "display_name": "Python 3",
   "language": "python",
   "name": "python3"
  },
  "language_info": {
   "codemirror_mode": {
    "name": "ipython",
    "version": 3
   },
   "file_extension": ".py",
   "mimetype": "text/x-python",
   "name": "python",
   "nbconvert_exporter": "python",
   "pygments_lexer": "ipython3",
   "version": "3.6.8"
  }
 },
 "nbformat": 4,
 "nbformat_minor": 2
}
