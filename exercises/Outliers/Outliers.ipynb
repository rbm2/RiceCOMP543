{
 "cells": [
  {
   "cell_type": "markdown",
   "metadata": {},
   "source": [
    "## Outlier Detection\n",
    "For this homework, you will be implementing the outlier detection algorithm from class.\n",
    "\n",
    "There are two subtasks. Each is worth 25 points, 15 for \n",
    "implementing the algorithm and 10 for getting the correct answer. Partial credit may be given and deductions may be taken.\n",
    "\n",
    "### Honor Code Policy\n",
    "This assignment is to be completed independently. You may discuss the assignment at a high level with your classmates, but may not share code or results."
   ]
  },
  {
   "cell_type": "code",
   "execution_count": 82,
   "metadata": {
    "collapsed": true
   },
   "outputs": [],
   "source": [
    "import matplotlib.pyplot as plt\n",
    "\n",
    "# Note: This instructs matplotlib to use a Jupyter Notebook backend for plotting.\n",
    "%matplotlib inline"
   ]
  },
  {
   "cell_type": "code",
   "execution_count": 84,
   "metadata": {
    "collapsed": true
   },
   "outputs": [],
   "source": [
    "# THIS CELL NEEDS TO BE RUN TWICE (this cell and the next)\n",
    "plt.rcParams[\"figure.figsize\"] = 10, 6"
   ]
  },
  {
   "cell_type": "code",
   "execution_count": 85,
   "metadata": {
    "collapsed": true
   },
   "outputs": [],
   "source": [
    "plt.rcParams[\"figure.figsize\"] = 10, 6"
   ]
  },
  {
   "cell_type": "markdown",
   "metadata": {},
   "source": [
    "## brief aside on `heapq`\n",
    "\n",
    "Python's `heapq` library ([documentation](https://docs.python.org/3.6/library/heapq.html), please read through this to understand what they are and how we store them in an array)\n",
    "provides a heap interface to Python lists.\n",
    "\n",
    "### what's a heap?\n",
    "\n",
    "A heap is a tree-based data structure which satisfies the \n",
    "heap property:  \n",
    "\n",
    "---\n",
    "\n",
    "if $P$ is a parent of $C$, then the value of $P$ must be greater \n",
    "than or equal to the value of $C$\n",
    "\n",
    "---\n",
    "\n",
    "Also see:  \n",
    "* https://en.wikipedia.org/wiki/Heap_(data_structure)\n",
    "* https://www.tutorialspoint.com/data_structures_algorithms/heap_data_structure.htm\n",
    "* https://www.geeksforgeeks.org/heap-data-structure/"
   ]
  },
  {
   "cell_type": "markdown",
   "metadata": {},
   "source": [
    "## generate data\n",
    "\n",
    "To generate some data with outliers for this exercise, we're going to sample some data from a \n",
    "distribution with known parameters, modify the parameters, and continue sampling to generate \n",
    "some outliers.  In particular, we'll sample our data from a \n",
    "[multi-variate normal distribution](https://en.wikipedia.org/wiki/Multivariate_normal_distribution)."
   ]
  },
  {
   "cell_type": "code",
   "execution_count": 86,
   "metadata": {
    "collapsed": true
   },
   "outputs": [],
   "source": [
    "import heapq as hq\n",
    "import numpy as np\n",
    "import time"
   ]
  },
  {
   "cell_type": "code",
   "execution_count": 87,
   "metadata": {
    "collapsed": true
   },
   "outputs": [],
   "source": [
    "from hashlib import md5\n",
    "\n",
    "# Note: Random Number Generators (RNGs) aren't actually random; \n",
    "# we can all get the same results here if we use the same \"seed\".\n",
    "#   For more details see: https://en.wikipedia.org/wiki/Pseudorandom_number_generator\n",
    "seed = int(md5(b\"DSCI302\").hexdigest(), 16) % (2**32 - 1) # this just gets a valid seed in a fun way \n",
    "np.random.seed(seed)"
   ]
  },
  {
   "cell_type": "code",
   "execution_count": 88,
   "metadata": {
    "collapsed": true
   },
   "outputs": [],
   "source": [
    "def generate_data(dim = 100, num_points = 3000, num_outliers=20):\n",
    "    \"\"\"\n",
    "    Generates some data with a the specified number of outliers.\n",
    "    \n",
    "    :param dim: the dimensionality of the data\n",
    "    :param num_points: number of data points to generate\n",
    "    :param num_outliers: number of outlierly data points to generate\n",
    "    \"\"\"\n",
    "        \n",
    "    # covariance matrix & mean vector\n",
    "    covar = np.diag(np.ones(dim))\n",
    "    mean = np.zeros(dim)\n",
    "\n",
    "    # Sample num_points data points\n",
    "    all_data = np.random.multivariate_normal(mean, covar, num_points)\n",
    "    \n",
    "    #now create the num_outliers outliers. Note that this code generates batches of points clustered around \n",
    "    #increasing means. The most outlierly points will start at index num_points. \n",
    "    for i in range (1, num_outliers):\n",
    "        mean.fill(i)\n",
    "        outlier_data = np.random.multivariate_normal (mean, covar, i)\n",
    "        all_data = np.concatenate ((all_data, outlier_data))\n",
    "\n",
    "    return all_data\n",
    "\n",
    "this_num_points = 3000\n",
    "this_num_outliers = 20\n",
    "data100d = generate_data(dim=100, num_points = this_num_points, num_outliers = this_num_outliers)"
   ]
  },
  {
   "cell_type": "markdown",
   "metadata": {},
   "source": [
    "### quick example in 2 dimensions\n",
    "\n",
    "Let's take a look at what this looks like in 2 dimensions. "
   ]
  },
  {
   "cell_type": "code",
   "execution_count": 89,
   "metadata": {
    "collapsed": true
   },
   "outputs": [],
   "source": [
    "data2d = generate_data(dim=2)"
   ]
  },
  {
   "cell_type": "code",
   "execution_count": 90,
   "metadata": {},
   "outputs": [
    {
     "data": {
      "text/plain": [
       "<matplotlib.legend.Legend at 0x10b56bf60>"
      ]
     },
     "execution_count": 90,
     "metadata": {},
     "output_type": "execute_result"
    },
    {
     "data": {
      "image/png": "[encoded data removed]",
      "text/plain": [
       "<matplotlib.figure.Figure at 0x10b522a90>"
      ]
     },
     "metadata": {},
     "output_type": "display_data"
    }
   ],
   "source": [
    "# plot all the data\n",
    "plt.scatter(*data2d[0:this_num_points-1,:].T, label=\"data\")\n",
    "plt.scatter(*data2d[this_num_points:,:].T, label=\"outlier\")\n",
    "plt.legend(loc=\"lower right\")"
   ]
  },
  {
   "cell_type": "code",
   "execution_count": null,
   "metadata": {
    "collapsed": true
   },
   "outputs": [],
   "source": [
    "# zoom in on the outliers\n",
    "plt.scatter(*data2d[0:this_num_points,:].T, label=\"data\")\n",
    "plt.scatter(*data2d[this_num_points:this_num_points+4,:].T, label=\"outlier\")\n",
    "plt.legend(loc=\"lower right\")"
   ]
  },
  {
   "cell_type": "markdown",
   "metadata": {},
   "source": [
    "# Task 1 (25 points)\n",
    "\n",
    "\n",
    "For this task, you will be asked to implement (in Python) the nested loops algorithm on slide 29 of the \"outliers\" lecture. Start with the code below, and fill in the appropriate missing code. To implement the priority queue, use Python's heapq. The distance between data points should be implemented using Euclidean distance (the $\\ell_2$-norm).\n",
    "\n",
    "You may find the numpy linear algebra function **norm** helpful. \n",
    "\n",
    "https://docs.scipy.org/doc/numpy/reference/generated/numpy.linalg.norm.html"
   ]
  },
  {
   "cell_type": "markdown",
   "metadata": {},
   "source": [
    "## implementation (15 points)"
   ]
  },
  {
   "cell_type": "code",
   "execution_count": null,
   "metadata": {
    "collapsed": true
   },
   "outputs": [],
   "source": [
    "def get_outliers_slow(data, num_neigh = 10, num_outliers = 5):\n",
    "    \"\"\"\n",
    "    Implement the nested loop outliers algorithm on slide 29 of the lecture.\n",
    "    \n",
    "    :param data: the data\n",
    "    :param num_neigh: number of neighbors to use in knn detection\n",
    "    :param num_outliers: number of outliers to return\n",
    "    \n",
    "    :return: a numpy array of dimension [num_outliers,] \n",
    "    storing pairs containing the each outlier and its index in the data \n",
    "    \"\"\"\n",
    "    \n",
    "    # Feel free to change / use the above variables as you please, but\n",
    "    # please return the outliers / indices as described in the docstring.\n",
    "    \n",
    "    # Priority Queue for the Outliers\n",
    "    outliers = []\n",
    "    # Array for the indices\n",
    "    indices = []\n",
    "    \n",
    "    # TODO: Implement the nested loop outliers algo. and store the outliers and indices\n",
    "        \n",
    "    return np.array(outliers)"
   ]
  },
  {
   "cell_type": "markdown",
   "metadata": {},
   "source": [
    "## time it! (correct output + reasonable time 15pt)\n",
    "\n",
    "Note how we can time the execution of a cell simply by starting it with\n",
    "`%%time`. A reasonable time is ~1-2 minutes."
   ]
  },
  {
   "cell_type": "code",
   "execution_count": null,
   "metadata": {
    "collapsed": true
   },
   "outputs": [],
   "source": [
    "%%time\n",
    "\n",
    "outliers100d = get_outliers_slow(data100d)"
   ]
  },
  {
   "cell_type": "code",
   "execution_count": null,
   "metadata": {
    "collapsed": true
   },
   "outputs": [],
   "source": [
    "outliers100d"
   ]
  },
  {
   "cell_type": "code",
   "execution_count": null,
   "metadata": {
    "collapsed": true
   },
   "outputs": [],
   "source": [
    "%%time\n",
    "\n",
    "outliers2d = get_outliers_slow(data2d)"
   ]
  },
  {
   "cell_type": "code",
   "execution_count": null,
   "metadata": {
    "collapsed": true
   },
   "outputs": [],
   "source": [
    "outliers2d"
   ]
  },
  {
   "cell_type": "markdown",
   "metadata": {},
   "source": [
    "### plot 2D data & predicted outliers"
   ]
  },
  {
   "cell_type": "code",
   "execution_count": null,
   "metadata": {
    "collapsed": true
   },
   "outputs": [],
   "source": [
    "plt.scatter(*data2d.T, label=\"data\")\n",
    "if len(outliers2d):\n",
    "    plt.scatter(*outliers2d.T, label=\"predicted outlier\")\n",
    "plt.legend(loc=\"lower right\")"
   ]
  },
  {
   "cell_type": "markdown",
   "metadata": {},
   "source": [
    "# Task 2: Optimal Algorithm (25 points)\n",
    "\n",
    "In this task, you should implement the faster algorithm on slide 32. Note that your implemetation should find the same outliers as in Task 1."
   ]
  },
  {
   "cell_type": "markdown",
   "metadata": {},
   "source": [
    "## implementation (15 points)"
   ]
  },
  {
   "cell_type": "code",
   "execution_count": null,
   "metadata": {
    "collapsed": true
   },
   "outputs": [],
   "source": [
    "def get_outliers_fast(data, num_neigh = 10, num_outliers = 5):\n",
    "    \"\"\"\n",
    "    Implement the nested loop outliers algorithm on slide 32 of the lecture.\n",
    "    \n",
    "    :param data: the data\n",
    "    :param num_neigh: number of neighbors to use in knn detection\n",
    "    :param num_outliers: number of outliers to return\n",
    "    \n",
    "    :return: a numpy array of dimension [num_outliers,] storing the outliers\n",
    "    and a numpy array of dimension [num_outliers,] storing the indices\n",
    "    \"\"\"\n",
    "    \n",
    "    # Feel free to change / use the following variables as you please, but\n",
    "    # please return the outliers / indices as described in the docstring.\n",
    "    \n",
    "    # Priority Queue for the Outliers\n",
    "    outliers = []\n",
    "    # Array for the indices\n",
    "    indices = []\n",
    "    \n",
    "    # TODO: Implement the fast outliers algo. and store the outliers & indices\n",
    "    \n",
    "    return np.array(outliers)"
   ]
  },
  {
   "cell_type": "markdown",
   "metadata": {},
   "source": [
    "## time it! (correct output + reasonable time 10 points)\n",
    "\n",
    "Note how we can time the execution of a cell simply by starting it with\n",
    "`%%time`. A reasonable time is < 10 seconds."
   ]
  },
  {
   "cell_type": "code",
   "execution_count": null,
   "metadata": {
    "collapsed": true
   },
   "outputs": [],
   "source": [
    "%%time\n",
    "\n",
    "outliers2d = get_outliers_fast(data2d)"
   ]
  },
  {
   "cell_type": "code",
   "execution_count": null,
   "metadata": {
    "collapsed": true
   },
   "outputs": [],
   "source": [
    "outliers2d"
   ]
  },
  {
   "cell_type": "code",
   "execution_count": null,
   "metadata": {
    "collapsed": true
   },
   "outputs": [],
   "source": [
    "%%time\n",
    "\n",
    "outliers100d = get_outliers_fast(data100d)"
   ]
  },
  {
   "cell_type": "code",
   "execution_count": null,
   "metadata": {
    "collapsed": true
   },
   "outputs": [],
   "source": [
    "outliers100d"
   ]
  },
  {
   "cell_type": "markdown",
   "metadata": {},
   "source": [
    "### plot 2D data & predicted outliers"
   ]
  },
  {
   "cell_type": "code",
   "execution_count": null,
   "metadata": {
    "collapsed": true
   },
   "outputs": [],
   "source": [
    "plt.scatter(*data2d.T, label=\"data\")\n",
    "if len(outliers2d):\n",
    "    plt.scatter(*outliers2d.T, label=\"predicted outlier\")\n",
    "plt.legend(loc=\"lower right\")"
   ]
  },
  {
   "cell_type": "markdown",
   "metadata": {
    "collapsed": true
   },
   "source": [
    "Copyright ©  2019 Rice University, Christopher M Jermaine (cmj4@rice.edu), and Risa B Myers  (rbm2@rice.edu)\n",
    "\n",
    "Licensed under the Apache License, Version 2.0 (the \"License\");\n",
    "you may not use this file except in compliance with the License.\n",
    "You may obtain a copy of the License at\n",
    "\n",
    "    https://www.apache.org/licenses/LICENSE-2.0\n",
    "\n",
    "Unless required by applicable law or agreed to in writing, software\n",
    "distributed under the License is distributed on an \"AS IS\" BASIS,\n",
    "WITHOUT WARRANTIES OR CONDITIONS OF ANY KIND, either express or implied.\n",
    "See the License for the specific language governing permissions and\n",
    "limitations under the License."
   ]
  }
 ],
 "metadata": {
  "kernelspec": {
   "display_name": "Python 3",
   "language": "python",
   "name": "python3"
  },
  "language_info": {
   "codemirror_mode": {
    "name": "ipython",
    "version": 3
   },
   "file_extension": ".py",
   "mimetype": "text/x-python",
   "name": "python",
   "nbconvert_exporter": "python",
   "pygments_lexer": "ipython3",
   "version": "3.6.8"
  }
 },
 "nbformat": 4,
 "nbformat_minor": 2
}
