{
 "cells": [
  {
   "cell_type": "markdown",
   "metadata": {},
   "source": [
    "# Expectation Maximization\n",
    "\n",
    "In this exercise, you are asked to actually implement the EM algorithm derived in class. Your implementation will be using Python. Recall that the basic setup was that we imagine that there are two coins in a bag. Repeatedly, we pick one out and flip it 10 times, then put it back in. We derived an algorithm to look at all of the sequences of 10 flips, and figure out the probability that each coin comes up heads. \n",
    "\n"
   ]
  },
  {
   "cell_type": "markdown",
   "metadata": {},
   "source": [
    "One thing that might help you is \n",
    "\n",
    "    scipy.stats.binom.pmf (numHeads, numTrials, probOfHeads)\n",
    "\n",
    "This function allows you to compute the binomial probability of seeing the specified number of heads in the specified number of trials. \n"
   ]
  },
  {
   "cell_type": "markdown",
   "metadata": {},
   "source": [
    "Grading: \n",
    "\n",
    "Point allocation:\n",
    "* 0-20 Points for myEM function implementation\n",
    "* 15 Points for successfully running Task 1\n",
    "* 15 points for successfully running Task 2\n"
   ]
  },
  {
   "cell_type": "markdown",
   "metadata": {},
   "source": [
    "Start with the following code:"
   ]
  },
  {
   "cell_type": "code",
   "execution_count": null,
   "metadata": {
    "collapsed": true
   },
   "outputs": [],
   "source": [
    "import numpy as np\n",
    "import scipy.stats\n",
    "\n",
    "# uncomment for repeatable data\n",
    "#np.random.seed(302)"
   ]
  },
  {
   "cell_type": "code",
   "execution_count": null,
   "metadata": {
    "collapsed": true
   },
   "outputs": [],
   "source": [
    "# Generate the data\n",
    "\n",
    "# one coin has a probability of coming up heads of 0.2, the other 0.6\n",
    "# this is the truth we will use to generate the sequences of coin flips\n",
    "coinProbs = np.zeros (2)\n",
    "coinProbs[0] = 0.2\n",
    "coinProbs[1] = 0.6\n",
    "\n",
    "# reach in and pull out a coin numTimes times\n",
    "numTimes = 100\n",
    "\n",
    "# flip it numFlips times when you do\n",
    "numFlips = 10\n",
    "\n",
    "# flips will have the number of heads we observed in numFlips flips for each coin\n",
    "flips = np.zeros (numTimes)\n",
    "for coin in range(numTimes):\n",
    "        which = np.random.binomial (1, 0.5, 1); \n",
    "        flips[coin] = np.random.binomial (numFlips, coinProbs[which], 1); \n",
    "\n",
    "\n"
   ]
  },
  {
   "cell_type": "code",
   "execution_count": null,
   "metadata": {
    "collapsed": true
   },
   "outputs": [],
   "source": [
    "# initialize the EM algorithm\n",
    "coinProbs[0] = 0.79\n",
    "coinProbs[1] = 0.51\n"
   ]
  },
  {
   "cell_type": "markdown",
   "metadata": {},
   "source": [
    "Using this code as a start, write some Python code that runs 20 iterations of the EM algorithm that we derived. At the end of each iteration, print out the current probabilities of the two coins. \n",
    "\n",
    "## Useful function(s)\n",
    "\n",
    "You may find the scipy `stats.binom` functions helpful. [documentation binom](https://docs.scipy.org/doc/scipy/reference/generated/scipy.stats.binom.html)\n",
    "\n",
    "In particular, `scipy.stats.binom.pmf (numHeads, numTrials, probOfHeads)` allows you to compute the binomial probability of seeing the specified number of heads in the specified number of trials. "
   ]
  },
  {
   "cell_type": "code",
   "execution_count": null,
   "metadata": {
    "collapsed": true
   },
   "outputs": [],
   "source": [
    "# define the EM algorithm\n",
    "def myEM(numIters):\n",
    "    for iters in range (numIters):\n",
    "       # my code goes here\n"
   ]
  },
  {
   "cell_type": "markdown",
   "metadata": {},
   "source": [
    "Now run the function"
   ]
  },
  {
   "cell_type": "code",
   "execution_count": null,
   "metadata": {
    "collapsed": true
   },
   "outputs": [],
   "source": [
    "myEM(20)"
   ]
  },
  {
   "cell_type": "markdown",
   "metadata": {},
   "source": [
    "This time, reduce numFlips to 2.\n",
    "\n",
    "Reset the initial estimates for the probabilities."
   ]
  },
  {
   "cell_type": "code",
   "execution_count": null,
   "metadata": {
    "collapsed": true
   },
   "outputs": [],
   "source": [
    "numFlips = 2\n",
    "coinProbs[0] = 0.2\n",
    "coinProbs[1] = 0.6"
   ]
  },
  {
   "cell_type": "code",
   "execution_count": null,
   "metadata": {
    "collapsed": true
   },
   "outputs": [],
   "source": [
    "# regenerate the data\n",
    "flips = np.zeros (numTimes)\n",
    "for coin in range(numTimes):\n",
    "        which = np.random.binomial (1, 0.5, 1);\n",
    "        flips[coin] = np.random.binomial (numFlips, coinProbs[which], 1);\n",
    "\n",
    "# initialize the EM algorithm\n",
    "coinProbs[0] = 0.79\n",
    "coinProbs[1] = 0.51"
   ]
  },
  {
   "cell_type": "markdown",
   "metadata": {},
   "source": [
    "and rerun the EM algorithm"
   ]
  },
  {
   "cell_type": "code",
   "execution_count": null,
   "metadata": {},
   "outputs": [],
   "source": [
    "myEM(20)"
   ]
  },
  {
   "cell_type": "markdown",
   "metadata": {},
   "source": [
    "Remarkably, the EM algorithm does a pretty job, even with just two flips of each coin!!\n",
    "\n",
    "\n"
   ]
  },
  {
   "cell_type": "markdown",
   "metadata": {},
   "source": [
    "What if we flip the coin 1000 times in each trial?\n",
    "\n",
    "Reset the initial estimates for the probabilities."
   ]
  },
  {
   "cell_type": "code",
   "execution_count": null,
   "metadata": {
    "collapsed": true
   },
   "outputs": [],
   "source": [
    "numFlips = 1000\n",
    "coinProbs[0] = 0.2\n",
    "coinProbs[1] = 0.6"
   ]
  },
  {
   "cell_type": "code",
   "execution_count": null,
   "metadata": {
    "collapsed": true
   },
   "outputs": [],
   "source": [
    "# flips will have the number of heads we observed in 1000 flips for each coin\n",
    "flips = np.zeros (numTimes)\n",
    "for coin in range(numTimes):\n",
    "        which = np.random.binomial (1, 0.5, 1);\n",
    "        flips[coin] = np.random.binomial (numFlips, coinProbs[which], 1);\n",
    "\n",
    "# initialize the EM algorithm\n",
    "coinProbs[0] = 0.79\n",
    "coinProbs[1] = 0.51"
   ]
  },
  {
   "cell_type": "markdown",
   "metadata": {},
   "source": [
    "and rerun the EM algorithm"
   ]
  },
  {
   "cell_type": "code",
   "execution_count": null,
   "metadata": {},
   "outputs": [],
   "source": [
    "myEM(20)"
   ]
  },
  {
   "cell_type": "markdown",
   "metadata": {},
   "source": [
    "See how fast it converges!"
   ]
  },
  {
   "cell_type": "markdown",
   "metadata": {},
   "source": [
    "## Extra credit\n",
    "\n",
    "For an extra 5 points, generalize your code to work with any number of coins, draws, and flips. Instead of running for a set number of iterations, let your code run until the largest change in a coin probability from one iteration to the next is < 0.001. Again, print out the probabilities at each iteration and then print out the total number of iterations run.\n",
    "\n",
    "Then, run the following experiments:\n",
    "\n",
    "Starting with coin probabilities: 0.6, 0.51, 0.4:\n",
    "\n",
    "1. 3 coins, truth: 0.2, 0.6, 0.9. numTimes = 100, numFlips = 10\n",
    "1. 3 coins, truth: 0.2, 0.6, 0.9. numTimes = 100, numFlips = 2\n",
    "\n",
    "In a few sentences, describe what you observed and what might be going on. You are welcome to run additional experiments, using more coins, flips, or trials."
   ]
  },
  {
   "cell_type": "markdown",
   "metadata": {},
   "source": [
    "Turn in your code (& results) in a Jupyter Notebook."
   ]
  },
  {
   "cell_type": "markdown",
   "metadata": {},
   "source": [
    "Copyright ©  2019 Rice University, Christopher M Jermaine (cmj4@rice.edu), and Risa B Myers  (rbm2@rice.edu)\n",
    "\n",
    "Licensed under the Apache License, Version 2.0 (the \"License\");\n",
    "you may not use this file except in compliance with the License.\n",
    "You may obtain a copy of the License at\n",
    "\n",
    "    https://www.apache.org/licenses/LICENSE-2.0\n",
    "\n",
    "Unless required by applicable law or agreed to in writing, software\n",
    "distributed under the License is distributed on an \"AS IS\" BASIS,\n",
    "WITHOUT WARRANTIES OR CONDITIONS OF ANY KIND, either express or implied.\n",
    "See the License for the specific language governing permissions and\n",
    "limitations under the License."
   ]
  }
 ],
 "metadata": {
  "kernelspec": {
   "display_name": "Python 3",
   "language": "python",
   "name": "python3"
  },
  "language_info": {
   "codemirror_mode": {
    "name": "ipython",
    "version": 3
   },
   "file_extension": ".py",
   "mimetype": "text/x-python",
   "name": "python",
   "nbconvert_exporter": "python",
   "pygments_lexer": "ipython3",
   "version": "3.6.8"
  }
 },
 "nbformat": 4,
 "nbformat_minor": 2
}
